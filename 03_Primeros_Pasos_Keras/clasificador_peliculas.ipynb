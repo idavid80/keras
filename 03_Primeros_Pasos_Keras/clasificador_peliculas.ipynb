{
  "nbformat": 4,
  "nbformat_minor": 0,
  "metadata": {
    "colab": {
      "provenance": [],
      "authorship_tag": "ABX9TyOj7IqXsGrCPjvYAWUXa7ne",
      "include_colab_link": true
    },
    "kernelspec": {
      "name": "python3",
      "display_name": "Python 3"
    },
    "language_info": {
      "name": "python"
    }
  },
  "cells": [
    {
      "cell_type": "markdown",
      "metadata": {
        "id": "view-in-github",
        "colab_type": "text"
      },
      "source": [
        "<a href=\"https://colab.research.google.com/github/idavid80/keras/blob/main/03_Primeros_Pasos_Keras/clasificador_peliculas.ipynb\" target=\"_parent\"><img src=\"https://colab.research.google.com/assets/colab-badge.svg\" alt=\"Open In Colab\"/></a>"
      ]
    },
    {
      "cell_type": "code",
      "execution_count": null,
      "metadata": {
        "id": "TfJOmrR-xKwx"
      },
      "outputs": [],
      "source": [
        "from keras.datasets import imdb"
      ]
    },
    {
      "cell_type": "code",
      "source": [
        "(train_data, train_labels), (test_data, test_labels) = imdb.load_data(num_words=10000)"
      ],
      "metadata": {
        "colab": {
          "base_uri": "https://localhost:8080/"
        },
        "id": "soZcLk2CxT_f",
        "outputId": "5d51d4a5-1b84-4d70-ff87-441ee6c1edc5"
      },
      "execution_count": null,
      "outputs": [
        {
          "output_type": "stream",
          "name": "stdout",
          "text": [
            "Downloading data from https://storage.googleapis.com/tensorflow/tf-keras-datasets/imdb.npz\n",
            "\u001b[1m17464789/17464789\u001b[0m \u001b[32m━━━━━━━━━━━━━━━━━━━━\u001b[0m\u001b[37m\u001b[0m \u001b[1m0s\u001b[0m 0us/step\n"
          ]
        }
      ]
    },
    {
      "cell_type": "markdown",
      "source": [
        "Pasamos por argumento las 10.000 palabras que más aparecen en los datos de entrenamientos, de esta forma, eliminamos palabras raras y hacemos más manejable los datos."
      ],
      "metadata": {
        "id": "BMbV2w7qxf7n"
      }
    },
    {
      "cell_type": "code",
      "source": [
        "print(train_data[0])\n",
        "\n",
        "print('label:', train_labels[0])"
      ],
      "metadata": {
        "colab": {
          "base_uri": "https://localhost:8080/"
        },
        "id": "ii6hu1aWynRE",
        "outputId": "751fc6a0-8331-4ac9-a6c3-7fc109c41f92"
      },
      "execution_count": null,
      "outputs": [
        {
          "output_type": "stream",
          "name": "stdout",
          "text": [
            "[1, 14, 22, 16, 43, 530, 973, 1622, 1385, 65, 458, 4468, 66, 3941, 4, 173, 36, 256, 5, 25, 100, 43, 838, 112, 50, 670, 2, 9, 35, 480, 284, 5, 150, 4, 172, 112, 167, 2, 336, 385, 39, 4, 172, 4536, 1111, 17, 546, 38, 13, 447, 4, 192, 50, 16, 6, 147, 2025, 19, 14, 22, 4, 1920, 4613, 469, 4, 22, 71, 87, 12, 16, 43, 530, 38, 76, 15, 13, 1247, 4, 22, 17, 515, 17, 12, 16, 626, 18, 2, 5, 62, 386, 12, 8, 316, 8, 106, 5, 4, 2223, 5244, 16, 480, 66, 3785, 33, 4, 130, 12, 16, 38, 619, 5, 25, 124, 51, 36, 135, 48, 25, 1415, 33, 6, 22, 12, 215, 28, 77, 52, 5, 14, 407, 16, 82, 2, 8, 4, 107, 117, 5952, 15, 256, 4, 2, 7, 3766, 5, 723, 36, 71, 43, 530, 476, 26, 400, 317, 46, 7, 4, 2, 1029, 13, 104, 88, 4, 381, 15, 297, 98, 32, 2071, 56, 26, 141, 6, 194, 7486, 18, 4, 226, 22, 21, 134, 476, 26, 480, 5, 144, 30, 5535, 18, 51, 36, 28, 224, 92, 25, 104, 4, 226, 65, 16, 38, 1334, 88, 12, 16, 283, 5, 16, 4472, 113, 103, 32, 15, 16, 5345, 19, 178, 32]\n",
            "label: 1\n"
          ]
        }
      ]
    },
    {
      "cell_type": "code",
      "source": [
        "max([max(sequence) for sequence in train_data])"
      ],
      "metadata": {
        "colab": {
          "base_uri": "https://localhost:8080/"
        },
        "id": "By6CVx5NzfKS",
        "outputId": "af293e8d-aa63-44a6-be2f-44752dc9aece"
      },
      "execution_count": null,
      "outputs": [
        {
          "output_type": "execute_result",
          "data": {
            "text/plain": [
              "9999"
            ]
          },
          "metadata": {},
          "execution_count": 6
        }
      ]
    },
    {
      "cell_type": "markdown",
      "source": [
        "Al pasar por argumetos 10.000, ninfuna palabra excedera de ese valor"
      ],
      "metadata": {
        "id": "dr6lsAkKzRyq"
      }
    },
    {
      "cell_type": "code",
      "source": [
        "word_index = imdb.get_word_index() # diccionario que asigna indice de enteros a palabras\n",
        "reverse_word_index = dict([(value, key) for (key, value) in word_index.items()]) # diccionario que asigna palabras a indice de enteros\n",
        "decode_review = ' '.join([reverse_word_index.get(i-3, '?') for i in train_data[0]]) # descodifica la crótica"
      ],
      "metadata": {
        "colab": {
          "base_uri": "https://localhost:8080/"
        },
        "id": "WbGB7XdQz6VR",
        "outputId": "2d54f34f-d218-4018-be37-8fdd03cd6e27"
      },
      "execution_count": null,
      "outputs": [
        {
          "output_type": "stream",
          "name": "stdout",
          "text": [
            "Downloading data from https://storage.googleapis.com/tensorflow/tf-keras-datasets/imdb_word_index.json\n",
            "\u001b[1m1641221/1641221\u001b[0m \u001b[32m━━━━━━━━━━━━━━━━━━━━\u001b[0m\u001b[37m\u001b[0m \u001b[1m0s\u001b[0m 0us/step\n"
          ]
        }
      ]
    },
    {
      "cell_type": "markdown",
      "source": [
        "Los índices estan desviados a 3 porque se reservan para \"relleno\", \"inicio secuencia\" y \"desconocido\""
      ],
      "metadata": {
        "id": "XbbNWoKE0sSP"
      }
    },
    {
      "cell_type": "markdown",
      "source": [
        "Un tensor no puede recibir lista de enteros, por lo que hay dos formas de convertirlos en tensores.\n",
        "\n",
        "1.   Rellenar las listas para que tenga la misma longitud con la forma (muestra, indice_palabra) y utilizar una capa Embedding (utilizar la primera capa de la red con enteros que puedan ser manejados)\n",
        "2.   Usar codificación one-hot en las listas\n",
        " para convertirlas en vectores binarios (0 y 1), que se podrían usar en la primera capa Dense para manejar los datos vectoriales de puntos flotantes.\n"
      ],
      "metadata": {
        "id": "9grbsVa11FeX"
      }
    },
    {
      "cell_type": "code",
      "source": [
        "# Codificar la secuencia de enteros en una matriz binaria\n",
        "import numpy as np\n",
        "\n",
        "def vectorize_sequence(sequence, dimension=10000):\n",
        "  # crea una matriz de 0 con la forma (len(sequence), dimension))\n",
        "  results = np.zeros((len(sequence), dimension))\n",
        "  for i, sequence in enumerate(sequence):\n",
        "    results[i, sequence] = 1. # Pasa indices especificos de results[i] a 1\n",
        "  return results"
      ],
      "metadata": {
        "id": "LmfGHooO2qGq"
      },
      "execution_count": null,
      "outputs": []
    },
    {
      "cell_type": "markdown",
      "source": [
        "Vectorizamos los datos de entrenamientos y test"
      ],
      "metadata": {
        "id": "ibPIjDSf34TZ"
      }
    },
    {
      "cell_type": "code",
      "source": [
        "x_train = vectorize_sequence(train_data)\n",
        "x_test = vectorize_sequence(test_data)\n",
        "\n",
        "print(x_train[0])"
      ],
      "metadata": {
        "colab": {
          "base_uri": "https://localhost:8080/"
        },
        "id": "KNBECkpA39cX",
        "outputId": "4ad20e26-e6bd-4949-fb30-0e85ce886f93"
      },
      "execution_count": null,
      "outputs": [
        {
          "output_type": "stream",
          "name": "stdout",
          "text": [
            "[0. 1. 1. ... 0. 0. 0.]\n"
          ]
        }
      ]
    },
    {
      "cell_type": "markdown",
      "source": [
        "Hacemos lo mismo con las etiquetas"
      ],
      "metadata": {
        "id": "DZw8zEQf4Yry"
      }
    },
    {
      "cell_type": "code",
      "source": [
        "y_train = np.asarray(train_labels).astype('float32')\n",
        "y_test = np.asarray(test_labels).astype('float32')"
      ],
      "metadata": {
        "id": "ct3CDW3l4bsp"
      },
      "execution_count": null,
      "outputs": []
    },
    {
      "cell_type": "markdown",
      "source": [
        "Una vez tenemos los datos listos, procedemos a crear la red neuronal. Tenemos que los datos de entrada son vectores y las etiquetas escalares (0 y 1). Esta es la configuración más sencilla, bastará con una simple pila de capas completamente conectadas (Dense y activación relu)"
      ],
      "metadata": {
        "id": "r98vOvF54ncO"
      }
    },
    {
      "cell_type": "code",
      "source": [
        "\"\"\"\n",
        "from keras import models\n",
        "from keras import layers\n",
        "\n",
        "model = models.Sequential()\n",
        "model.add(layers.Dense(16, activation='relu', input_shape=(10000,)))\n",
        "model.add(layers.Dense(16, activation='relu'))\n",
        "model.add(layers.Dense(1, activation='sigmoid'))\n",
        "\"\"\"\n",
        "from keras import models\n",
        "from keras import layers\n",
        "from keras import Input # Importar Input\n",
        "\n",
        "model = models.Sequential(\n",
        "    [\n",
        "        Input(shape=(10000,)), # Usar la capa Input explícitamente\n",
        "        layers.Dense(16, activation='relu'),\n",
        "        layers.Dense(16, activation='relu'),\n",
        "        layers.Dense(1, activation='sigmoid')\n",
        "    ]\n",
        ")"
      ],
      "metadata": {
        "id": "ZVb6fYso2xmN"
      },
      "execution_count": null,
      "outputs": []
    },
    {
      "cell_type": "markdown",
      "source": [
        "Un esquema de esta red sería:\n",
        "\n",
        "Entrada (texto vectorizado) --> Dense (16 unidades) --> Dense (16 unidades) --> Dense (1 unidad) --> Resultado probabilidad\n",
        "\n"
      ],
      "metadata": {
        "id": "cQ1SQ_1w3EY7"
      }
    },
    {
      "cell_type": "code",
      "source": [
        "model.compile(optimizer='rmsprop', loss='binary_crossentropy', metrics=['accuracy'])"
      ],
      "metadata": {
        "id": "qUIhYyyv7kWn"
      },
      "execution_count": null,
      "outputs": []
    },
    {
      "cell_type": "markdown",
      "source": [
        "En este caso utilizamos:\n",
        "- *binary_crossentropy* porque esperamos datos estadísticos, tenemos como salida un resultado de probabilidad (última capa tiene una activación *sigmoid*). En este caso, *binary_crossentropy* medirá la distancia entre distribución verdadera y las predicciones.\n",
        "- rmsprop (Root Mean Square Propagation) es un optimizador de tasa de aprendizaje adaptativa. Esto significa que ajusta dinámicamente la tasa de aprendizaje (el tamaño del paso para modificar los pesos) de forma independiente para cada peso de la red."
      ],
      "metadata": {
        "id": "0jXG5YP27ocm"
      }
    },
    {
      "cell_type": "code",
      "source": [
        "x_val = x_train[:10000] # conjunto de validación con los primeros 10,000 ejemplos\n",
        "partial_x_train = x_train[10000:] # Contiene todos los ejemplos restantes de x_train\n",
        "\n",
        "# Hacemos lo mismo con las etiquetas\n",
        "y_val = y_train[:10000] # representa el conjunto de etiquetas o respuestas correctas (targets o outputs)\n",
        "partial_y_train = y_train[10000:]"
      ],
      "metadata": {
        "id": "5c_k6aLLSLpe"
      },
      "execution_count": null,
      "outputs": []
    },
    {
      "cell_type": "markdown",
      "source": [
        "Dividimos el conjunto de datos de entrenamiento en dos subconjuntos para monitorizar el rendimiento del modelo durante el entrenamiento. Esto es crucial para:\n",
        "Detectar el sobreajuste (overfitting)\n",
        "Ajustar los hiperparámetros (como el número de épocas, la tasa de aprendizaje, etc.) para encontrar la configuración óptima antes de la evaluación final"
      ],
      "metadata": {
        "id": "S8WfDhaQSPRe"
      }
    },
    {
      "cell_type": "code",
      "source": [
        "history = model.fit(partial_x_train, partial_y_train, epochs=20, batch_size=512, validation_data=(x_val, y_val))"
      ],
      "metadata": {
        "colab": {
          "base_uri": "https://localhost:8080/"
        },
        "id": "K8QbwI-OUJ4W",
        "outputId": "007a1d43-e81d-42ef-ce54-deecb3be1254"
      },
      "execution_count": null,
      "outputs": [
        {
          "output_type": "stream",
          "name": "stdout",
          "text": [
            "Epoch 1/20\n",
            "\u001b[1m30/30\u001b[0m \u001b[32m━━━━━━━━━━━━━━━━━━━━\u001b[0m\u001b[37m\u001b[0m \u001b[1m3s\u001b[0m 60ms/step - accuracy: 0.6823 - loss: 0.6269 - val_accuracy: 0.8533 - val_loss: 0.4454\n",
            "Epoch 2/20\n",
            "\u001b[1m30/30\u001b[0m \u001b[32m━━━━━━━━━━━━━━━━━━━━\u001b[0m\u001b[37m\u001b[0m \u001b[1m1s\u001b[0m 32ms/step - accuracy: 0.8778 - loss: 0.3970 - val_accuracy: 0.8779 - val_loss: 0.3371\n",
            "Epoch 3/20\n",
            "\u001b[1m30/30\u001b[0m \u001b[32m━━━━━━━━━━━━━━━━━━━━\u001b[0m\u001b[37m\u001b[0m \u001b[1m1s\u001b[0m 31ms/step - accuracy: 0.9091 - loss: 0.2815 - val_accuracy: 0.8794 - val_loss: 0.3060\n",
            "Epoch 4/20\n",
            "\u001b[1m30/30\u001b[0m \u001b[32m━━━━━━━━━━━━━━━━━━━━\u001b[0m\u001b[37m\u001b[0m \u001b[1m1s\u001b[0m 32ms/step - accuracy: 0.9298 - loss: 0.2179 - val_accuracy: 0.8827 - val_loss: 0.2908\n",
            "Epoch 5/20\n",
            "\u001b[1m30/30\u001b[0m \u001b[32m━━━━━━━━━━━━━━━━━━━━\u001b[0m\u001b[37m\u001b[0m \u001b[1m1s\u001b[0m 32ms/step - accuracy: 0.9421 - loss: 0.1852 - val_accuracy: 0.8875 - val_loss: 0.2773\n",
            "Epoch 6/20\n",
            "\u001b[1m30/30\u001b[0m \u001b[32m━━━━━━━━━━━━━━━━━━━━\u001b[0m\u001b[37m\u001b[0m \u001b[1m1s\u001b[0m 33ms/step - accuracy: 0.9498 - loss: 0.1561 - val_accuracy: 0.8854 - val_loss: 0.2832\n",
            "Epoch 7/20\n",
            "\u001b[1m30/30\u001b[0m \u001b[32m━━━━━━━━━━━━━━━━━━━━\u001b[0m\u001b[37m\u001b[0m \u001b[1m1s\u001b[0m 34ms/step - accuracy: 0.9602 - loss: 0.1341 - val_accuracy: 0.8800 - val_loss: 0.3005\n",
            "Epoch 8/20\n",
            "\u001b[1m30/30\u001b[0m \u001b[32m━━━━━━━━━━━━━━━━━━━━\u001b[0m\u001b[37m\u001b[0m \u001b[1m2s\u001b[0m 52ms/step - accuracy: 0.9680 - loss: 0.1083 - val_accuracy: 0.8813 - val_loss: 0.3034\n",
            "Epoch 9/20\n",
            "\u001b[1m30/30\u001b[0m \u001b[32m━━━━━━━━━━━━━━━━━━━━\u001b[0m\u001b[37m\u001b[0m \u001b[1m2s\u001b[0m 35ms/step - accuracy: 0.9714 - loss: 0.1012 - val_accuracy: 0.8799 - val_loss: 0.3153\n",
            "Epoch 10/20\n",
            "\u001b[1m30/30\u001b[0m \u001b[32m━━━━━━━━━━━━━━━━━━━━\u001b[0m\u001b[37m\u001b[0m \u001b[1m1s\u001b[0m 34ms/step - accuracy: 0.9764 - loss: 0.0870 - val_accuracy: 0.8804 - val_loss: 0.3243\n",
            "Epoch 11/20\n",
            "\u001b[1m30/30\u001b[0m \u001b[32m━━━━━━━━━━━━━━━━━━━━\u001b[0m\u001b[37m\u001b[0m \u001b[1m1s\u001b[0m 31ms/step - accuracy: 0.9820 - loss: 0.0721 - val_accuracy: 0.8713 - val_loss: 0.3599\n",
            "Epoch 12/20\n",
            "\u001b[1m30/30\u001b[0m \u001b[32m━━━━━━━━━━━━━━━━━━━━\u001b[0m\u001b[37m\u001b[0m \u001b[1m1s\u001b[0m 32ms/step - accuracy: 0.9867 - loss: 0.0598 - val_accuracy: 0.8749 - val_loss: 0.3642\n",
            "Epoch 13/20\n",
            "\u001b[1m30/30\u001b[0m \u001b[32m━━━━━━━━━━━━━━━━━━━━\u001b[0m\u001b[37m\u001b[0m \u001b[1m1s\u001b[0m 33ms/step - accuracy: 0.9890 - loss: 0.0513 - val_accuracy: 0.8735 - val_loss: 0.3871\n",
            "Epoch 14/20\n",
            "\u001b[1m30/30\u001b[0m \u001b[32m━━━━━━━━━━━━━━━━━━━━\u001b[0m\u001b[37m\u001b[0m \u001b[1m1s\u001b[0m 32ms/step - accuracy: 0.9915 - loss: 0.0443 - val_accuracy: 0.8739 - val_loss: 0.4018\n",
            "Epoch 15/20\n",
            "\u001b[1m30/30\u001b[0m \u001b[32m━━━━━━━━━━━━━━━━━━━━\u001b[0m\u001b[37m\u001b[0m \u001b[1m1s\u001b[0m 32ms/step - accuracy: 0.9931 - loss: 0.0364 - val_accuracy: 0.8765 - val_loss: 0.4326\n",
            "Epoch 16/20\n",
            "\u001b[1m30/30\u001b[0m \u001b[32m━━━━━━━━━━━━━━━━━━━━\u001b[0m\u001b[37m\u001b[0m \u001b[1m1s\u001b[0m 32ms/step - accuracy: 0.9955 - loss: 0.0304 - val_accuracy: 0.8736 - val_loss: 0.4538\n",
            "Epoch 17/20\n",
            "\u001b[1m30/30\u001b[0m \u001b[32m━━━━━━━━━━━━━━━━━━━━\u001b[0m\u001b[37m\u001b[0m \u001b[1m1s\u001b[0m 34ms/step - accuracy: 0.9965 - loss: 0.0251 - val_accuracy: 0.8728 - val_loss: 0.4726\n",
            "Epoch 18/20\n",
            "\u001b[1m30/30\u001b[0m \u001b[32m━━━━━━━━━━━━━━━━━━━━\u001b[0m\u001b[37m\u001b[0m \u001b[1m2s\u001b[0m 46ms/step - accuracy: 0.9980 - loss: 0.0201 - val_accuracy: 0.8707 - val_loss: 0.4963\n",
            "Epoch 19/20\n",
            "\u001b[1m30/30\u001b[0m \u001b[32m━━━━━━━━━━━━━━━━━━━━\u001b[0m\u001b[37m\u001b[0m \u001b[1m2s\u001b[0m 32ms/step - accuracy: 0.9979 - loss: 0.0169 - val_accuracy: 0.8722 - val_loss: 0.5238\n",
            "Epoch 20/20\n",
            "\u001b[1m30/30\u001b[0m \u001b[32m━━━━━━━━━━━━━━━━━━━━\u001b[0m\u001b[37m\u001b[0m \u001b[1m1s\u001b[0m 32ms/step - accuracy: 0.9983 - loss: 0.0151 - val_accuracy: 0.8696 - val_loss: 0.5439\n"
          ]
        }
      ]
    },
    {
      "cell_type": "markdown",
      "source": [],
      "metadata": {
        "id": "hrkPUDOQUQ3u"
      }
    },
    {
      "cell_type": "markdown",
      "source": [
        "Entrenamos el modelo para 20 repeticionessobre odas las muestras en los tensores x_train e y_train en minilotes de 512 muestras"
      ],
      "metadata": {
        "id": "oUI7yVrTVRBv"
      }
    },
    {
      "cell_type": "code",
      "source": [
        "history_dict = history.history\n",
        "history_dict.keys()"
      ],
      "metadata": {
        "colab": {
          "base_uri": "https://localhost:8080/"
        },
        "id": "YjTmDuXuVkB8",
        "outputId": "f65aaeb5-3728-4ddf-a2dc-79179520d2a2"
      },
      "execution_count": null,
      "outputs": [
        {
          "output_type": "execute_result",
          "data": {
            "text/plain": [
              "dict_keys(['accuracy', 'loss', 'val_accuracy', 'val_loss'])"
            ]
          },
          "metadata": {},
          "execution_count": 15
        }
      ]
    },
    {
      "cell_type": "markdown",
      "source": [
        "model.fit() devuleve un objeto History que es un diccionario con los datos sobre lo que ha ocurrido en el eentrenamiento. En este caso, tenemos cuatro entradas (una por métrica) que sea han monitorizado durante el entrenamiento y validación. También tenemos la exactitud del entrenamiento y la validación."
      ],
      "metadata": {
        "id": "LjnssQBtVwZj"
      }
    },
    {
      "cell_type": "code",
      "source": [
        "import matplotlib.pyplot as plt\n",
        "\n",
        "loss_values = history_dict['loss']\n",
        "val_loss_values = history_dict['val_loss']\n",
        "\n",
        "epochs = range(1, len(loss_values) + 1)\n",
        "\n",
        "plt.plot(epochs, loss_values, 'bo', label='Entrenamiento')\n",
        "plt.plot(epochs, val_loss_values, 'b', label='Validación')\n",
        "plt.title('Pérdida en entrenamiento y validación')\n",
        "plt.xlabel('Épocas')\n",
        "plt.ylabel('Pérdida')\n",
        "plt.legend()\n",
        "\n",
        "plt.show()"
      ],
      "metadata": {
        "colab": {
          "base_uri": "https://localhost:8080/",
          "height": 474
        },
        "id": "3duvQ8UhWlUV",
        "outputId": "84544880-d68a-4e09-dc6b-a0411c6f21b9"
      },
      "execution_count": null,
      "outputs": [
        {
          "output_type": "display_data",
          "data": {
            "text/plain": [
              "<Figure size 640x480 with 1 Axes>"
            ],
            "image/png": "[encoded data removed]"
          },
          "metadata": {}
        }
      ]
    },
    {
      "cell_type": "code",
      "source": [
        "acc = history_dict['accuracy']\n",
        "val_acc = history_dict['val_accuracy']\n",
        "\n",
        "plt.plot(epochs, acc, 'bo', label='Entrenamiento')\n",
        "plt.plot(epochs, val_acc, 'b', label='Validación')\n",
        "plt.title('Exactitud en entrenamiento y validación')\n",
        "plt.xlabel('Épocas')\n",
        "plt.ylabel('Exactitud')\n",
        "plt.legend()\n",
        "\n",
        "plt.show()"
      ],
      "metadata": {
        "colab": {
          "base_uri": "https://localhost:8080/",
          "height": 474
        },
        "id": "pGnpjaF5omuj",
        "outputId": "1be4b3d3-2ae8-47cf-8713-1aa192dab575"
      },
      "execution_count": null,
      "outputs": [
        {
          "output_type": "display_data",
          "data": {
            "text/plain": [
              "<Figure size 640x480 with 1 Axes>"
            ],
            "image/png": "[encoded data removed]"
          },
          "metadata": {}
        }
      ]
    },
    {
      "cell_type": "markdown",
      "source": [
        "Como se aprecia en las gráficas, la pérdida de entrenamiento se reduce con cada repetición mientras que la exactitud aumenta. Podemos ver que hay un sobre ajuste después de la tercera repetición, por lo que repetiremos el entrenamiento desde cero con 4 repeticiones."
      ],
      "metadata": {
        "id": "xt92UJxspLWn"
      }
    },
    {
      "cell_type": "code",
      "source": [
        "model = models.Sequential(\n",
        "    [\n",
        "        Input(shape=(10000,)), # Usar la capa Input explícitamente\n",
        "        layers.Dense(16, activation='relu'),\n",
        "        layers.Dense(16, activation='relu'),\n",
        "        layers.Dense(1, activation='sigmoid')\n",
        "    ]\n",
        ")\n",
        "model.compile(optimizer='rmsprop', loss='binary_crossentropy', metrics=['accuracy'])\n",
        "model.fit(x_train, y_train, epochs=4, batch_size=512)\n",
        "results = model.evaluate(x_test, y_test)\n"
      ],
      "metadata": {
        "colab": {
          "base_uri": "https://localhost:8080/"
        },
        "id": "ep28JzBUq7OM",
        "outputId": "ad8c121b-50d9-4a2e-f1e6-f39eb898568a"
      },
      "execution_count": null,
      "outputs": [
        {
          "output_type": "stream",
          "name": "stdout",
          "text": [
            "Epoch 1/4\n",
            "\u001b[1m49/49\u001b[0m \u001b[32m━━━━━━━━━━━━━━━━━━━━\u001b[0m\u001b[37m\u001b[0m \u001b[1m2s\u001b[0m 22ms/step - accuracy: 0.7262 - loss: 0.5646\n",
            "Epoch 2/4\n",
            "\u001b[1m49/49\u001b[0m \u001b[32m━━━━━━━━━━━━━━━━━━━━\u001b[0m\u001b[37m\u001b[0m \u001b[1m1s\u001b[0m 22ms/step - accuracy: 0.9063 - loss: 0.2880\n",
            "Epoch 3/4\n",
            "\u001b[1m49/49\u001b[0m \u001b[32m━━━━━━━━━━━━━━━━━━━━\u001b[0m\u001b[37m\u001b[0m \u001b[1m1s\u001b[0m 23ms/step - accuracy: 0.9242 - loss: 0.2203\n",
            "Epoch 4/4\n",
            "\u001b[1m49/49\u001b[0m \u001b[32m━━━━━━━━━━━━━━━━━━━━\u001b[0m\u001b[37m\u001b[0m \u001b[1m2s\u001b[0m 31ms/step - accuracy: 0.9366 - loss: 0.1833\n",
            "\u001b[1m782/782\u001b[0m \u001b[32m━━━━━━━━━━━━━━━━━━━━\u001b[0m\u001b[37m\u001b[0m \u001b[1m2s\u001b[0m 2ms/step - accuracy: 0.8838 - loss: 0.2856\n"
          ]
        }
      ]
    },
    {
      "cell_type": "code",
      "source": [
        "print(results)"
      ],
      "metadata": {
        "colab": {
          "base_uri": "https://localhost:8080/"
        },
        "id": "KKbdrL7TrRJy",
        "outputId": "99d64d36-278e-4dea-e8f3-a581920acfae"
      },
      "execution_count": null,
      "outputs": [
        {
          "output_type": "stream",
          "name": "stdout",
          "text": [
            "[0.28260481357574463, 0.8869199752807617]\n"
          ]
        }
      ]
    },
    {
      "cell_type": "markdown",
      "source": [
        "Observamos que conseguimos una exactitud del 88.7%."
      ],
      "metadata": {
        "id": "6MrwFVYjrZAg"
      }
    },
    {
      "cell_type": "markdown",
      "source": [
        "### Generar predicciones\n",
        "\n",
        "Una vez entrenada la red, vamos a generar la probabilidad de que la crítica sea positiva."
      ],
      "metadata": {
        "id": "pF-4ykswroeg"
      }
    },
    {
      "cell_type": "code",
      "source": [
        "model.predict(x_test)"
      ],
      "metadata": {
        "colab": {
          "base_uri": "https://localhost:8080/"
        },
        "id": "vzYlorAMr7Ad",
        "outputId": "3e9c9d07-65e5-41d7-93ec-1fcffc6c3eba"
      },
      "execution_count": null,
      "outputs": [
        {
          "output_type": "stream",
          "name": "stdout",
          "text": [
            "\u001b[1m782/782\u001b[0m \u001b[32m━━━━━━━━━━━━━━━━━━━━\u001b[0m\u001b[37m\u001b[0m \u001b[1m1s\u001b[0m 2ms/step\n"
          ]
        },
        {
          "output_type": "execute_result",
          "data": {
            "text/plain": [
              "array([[0.20584358],\n",
              "       [0.99913174],\n",
              "       [0.86468464],\n",
              "       ...,\n",
              "       [0.10300232],\n",
              "       [0.09144276],\n",
              "       [0.67964953]], dtype=float32)"
            ]
          },
          "metadata": {},
          "execution_count": 20
        }
      ]
    },
    {
      "cell_type": "markdown",
      "source": [
        "Observamos que con algunas muestras hay una confianza el 0.999%, pero con otras apenas llegan al 0.089%"
      ],
      "metadata": {
        "id": "heh0zb2YsG10"
      }
    },
    {
      "cell_type": "code",
      "source": [
        "def review_to_vector(review, word_index, dimension=10000):\n",
        "  # Convertir a minúsculas y dividir por espacios\n",
        "  tokens = review.lower().split()\n",
        "  # Convertir palabras a índices\n",
        "  indices = [word_index.get(word, -1) for word in tokens]\n",
        "  # Filtrar y sumar el offset de 3 (IMDb empieza en 3 → reservados 0,1,2)\n",
        "  indices = [\n",
        "      idx + 3 for idx in indices\n",
        "      if idx != -1 and idx + 3 < dimension\n",
        "  ]\n",
        "  # Inicializar el vector a ceros\n",
        "  vector = np.zeros((1, dimension))\n",
        "\n",
        "  # Establecer a 1.0 en las posiciones de los índices encontrados\n",
        "  # Los índices deben ser únicos y estar dentro del rango [0, dimension-1]\n",
        "  if indices: # Asegura que la lista de índices no esté vacía\n",
        "    # Usar np.unique para evitar contar la misma palabra varias veces si el modelo no lo requiere\n",
        "    # En el enfoque bag-of-words *one-hot* (presencia/ausencia), solo se necesita 1.\n",
        "    unique_indices = np.unique(indices)\n",
        "    vector[0, unique_indices] = 1.0 # Asignación directa a todos los índices\n",
        "\n",
        "  return vector"
      ],
      "metadata": {
        "id": "sy2VpGSMu1Aj"
      },
      "execution_count": null,
      "outputs": []
    },
    {
      "cell_type": "markdown",
      "source": [
        "Ejecuta el siguiente codigo para probar el modelo. Escribe una reseña en el input y pulsa enter."
      ],
      "metadata": {
        "id": "LO3GzS6W3MOu"
      }
    },
    {
      "cell_type": "code",
      "source": [
        "new_review = input(\"Escribe tu reseña de película: \")\n",
        "\n",
        "vectorized_review = review_to_vector(new_review, word_index)\n",
        "prediction = model.predict(vectorized_review)\n",
        "\n",
        "if prediction[0][0] > 0.5:\n",
        "  print(f\"Reseña POSITIVA (probabilidad {prediction[0][0]:.2f})\")\n",
        "else:\n",
        "  print(f\"Reseña NEGATIVA (probabilidad {1 - prediction[0][0]:.2f})\")"
      ],
      "metadata": {
        "colab": {
          "base_uri": "https://localhost:8080/"
        },
        "id": "XHg2moK7ucr9",
        "outputId": "783b14af-a6b8-4cbf-ed7a-f8fa99216764"
      },
      "execution_count": null,
      "outputs": [
        {
          "output_type": "stream",
          "name": "stdout",
          "text": [
            "Escribe tu reseña de película: Me ha encantado\n",
            "\u001b[1m1/1\u001b[0m \u001b[32m━━━━━━━━━━━━━━━━━━━━\u001b[0m\u001b[37m\u001b[0m \u001b[1m0s\u001b[0m 33ms/step\n",
            "Reseña POSITIVA (probabilidad 0.52)\n"
          ]
        }
      ]
    }
  ]
}