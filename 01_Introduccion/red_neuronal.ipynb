{
  "nbformat": 4,
  "nbformat_minor": 0,
  "metadata": {
    "colab": {
      "provenance": [],
      "authorship_tag": "ABX9TyO1AEri0OTDmlW0xK13EXfH",
      "include_colab_link": true
    },
    "kernelspec": {
      "name": "python3",
      "display_name": "Python 3"
    },
    "language_info": {
      "name": "python"
    }
  },
  "cells": [
    {
      "cell_type": "markdown",
      "metadata": {
        "id": "view-in-github",
        "colab_type": "text"
      },
      "source": [
        "<a href=\"https://colab.research.google.com/github/idavid80/keras/blob/main/01_Introduccion/red_neuronal.ipynb\" target=\"_parent\"><img src=\"https://colab.research.google.com/assets/colab-badge.svg\" alt=\"Open In Colab\"/></a>"
      ]
    },
    {
      "cell_type": "code",
      "execution_count": 1,
      "metadata": {
        "id": "dJ9IWiT4_RGU"
      },
      "outputs": [],
      "source": [
        "from keras.datasets import mnist"
      ]
    },
    {
      "cell_type": "markdown",
      "source": [
        "Según el libro La librería MNIST nos proporciona 60.000 imagenes de entrenamiento, más 10.000 imagenes de pruebas, que han sido recompiladas por el National Institute of Standards and Technology.\n",
        "\n",
        "Este es un ejemplo para clasificar digitos manuscritos mediante una red neuronal. Para ello, se utiliza un sistema de clasificación de imagenes (en escala de grises de 28x28 pixeles) con 10 categorías (digitos del 0 al 9)."
      ],
      "metadata": {
        "id": "fKzpgNHr_ghb"
      }
    },
    {
      "cell_type": "code",
      "source": [
        "# Cargar datos\n",
        "(train_images, train_labels), (test_images, test_labels) = mnist.load_data()"
      ],
      "metadata": {
        "id": "oWosCthsWcRp",
        "colab": {
          "base_uri": "https://localhost:8080/"
        },
        "outputId": "6d12a330-bfa5-4f56-d43d-6175b5dabbbf"
      },
      "execution_count": 2,
      "outputs": [
        {
          "output_type": "stream",
          "name": "stdout",
          "text": [
            "Downloading data from https://storage.googleapis.com/tensorflow/tf-keras-datasets/mnist.npz\n",
            "\u001b[1m11490434/11490434\u001b[0m \u001b[32m━━━━━━━━━━━━━━━━━━━━\u001b[0m\u001b[37m\u001b[0m \u001b[1m0s\u001b[0m 0us/step\n"
          ]
        }
      ]
    },
    {
      "cell_type": "markdown",
      "source": [],
      "metadata": {
        "id": "I4zWPa2CWiPP"
      }
    },
    {
      "cell_type": "markdown",
      "source": [
        "Almacenamos los datos de los que aprende el modelo en las variables train_images y train_labels (Conjuntos de entrenamiento) y en las variables test_images y test_labels (Conjuntos de prueba) los datos de prueba.\n"
      ],
      "metadata": {
        "id": "sncKUoifWk2H"
      }
    },
    {
      "cell_type": "code",
      "source": [
        "# Datos de entrenamiento\n",
        "print(train_images.shape)\n",
        "print(train_labels)\n",
        "print(train_labels.dtype)\n",
        "len(train_labels)"
      ],
      "metadata": {
        "colab": {
          "base_uri": "https://localhost:8080/"
        },
        "id": "tn_j_QdTXaXl",
        "outputId": "a726030f-5c3a-46e4-c18a-b5351317e670"
      },
      "execution_count": 3,
      "outputs": [
        {
          "output_type": "stream",
          "name": "stdout",
          "text": [
            "(60000, 28, 28)\n",
            "[5 0 4 ... 5 6 8]\n",
            "uint8\n"
          ]
        },
        {
          "output_type": "execute_result",
          "data": {
            "text/plain": [
              "60000"
            ]
          },
          "metadata": {},
          "execution_count": 3
        }
      ]
    },
    {
      "cell_type": "code",
      "source": [
        "# Datos de prueba\n",
        "print(test_images.shape)\n",
        "print(test_labels)\n",
        "print(test_labels.dtype)\n",
        "len(test_labels)"
      ],
      "metadata": {
        "colab": {
          "base_uri": "https://localhost:8080/"
        },
        "id": "S7efmOIsX863",
        "outputId": "2ef46970-4e5b-4089-bb70-449b0a3e800c"
      },
      "execution_count": 4,
      "outputs": [
        {
          "output_type": "stream",
          "name": "stdout",
          "text": [
            "(10000, 28, 28)\n",
            "[7 2 1 ... 4 5 6]\n",
            "uint8\n"
          ]
        },
        {
          "output_type": "execute_result",
          "data": {
            "text/plain": [
              "10000"
            ]
          },
          "metadata": {},
          "execution_count": 4
        }
      ]
    },
    {
      "cell_type": "markdown",
      "source": [
        "El flujo es:\n",
        "\n",
        "1.   Proporcionar los datos de entrenamiento\n",
        "2.   Red aprende a asociar imagenes y etiquetas\n",
        "3.   Solicitamos a la red que predicciones para test_images y comprobamos que coinciden con test_labels."
      ],
      "metadata": {
        "id": "wsQ9-XTFZjql"
      }
    },
    {
      "cell_type": "code",
      "source": [
        "\"\"\"\n",
        "from keras import models\n",
        "from keras import layers\n",
        "\n",
        "# Arquitectura de la red (Capa)\n",
        "network = models.Sequential()\n",
        "network.add(layers.Dense(512, activation='relu', input_shape=(28 * 28,)))\n",
        "network.add(layers.Dense(10, activation='softmax'))\n",
        "\"\"\"\n",
        "from keras.models import Sequential\n",
        "from keras.layers import Dense, Input\n",
        "\n",
        "input_dim = 28 * 28\n",
        "\n",
        "model = Sequential([\n",
        "    Input(shape=(input_dim,)),\n",
        "    Dense(512, activation='relu'),\n",
        "    Dense(10, activation='softmax')\n",
        "])"
      ],
      "metadata": {
        "id": "NxaZKH7BZEb7"
      },
      "execution_count": 5,
      "outputs": []
    },
    {
      "cell_type": "markdown",
      "source": [
        "Es el bloque de construcción principal de las redes. Un modulo de procesamiento de datos que nos permite representar los datos de una forma más útiles.\n",
        "En este caso, hemos creado 2 capas *Dense* (Densa o Fully Connected)\n",
        "\n",
        "La primera capa oculta de tu red. Es una capa Densa, lo que significa que cada neurona en esta capa está conectada a cada neurona de la capa anterior. Tiene como parámetros:  \n",
        "*   512 es el número de neuronas (o unidades) que tendrá esta capa (un número mayor permite a la red aprender representaciones más complejas).\n",
        "*   activation: ReLU (Rectified Linear Unit) es la función de activación más común para capas ocultas. Introduce no-linealidad, lo que permite que la red aprenda relaciones complejas que no podrían ser modeladas solo con operaciones lineales\n",
        "*   input_shape: Este parámetro solo es necesario en la primera capa. Le dice al modelo la forma de los datos de entrada\n",
        "\n",
        "La segunda capa, en este caso capa de salida tiene como parámetros:\n",
        "*   10 es el número de neuronas en la capa de salida. En problemas de clasificación, este número debe coincidir con el número de clases que quieres predecir.\n",
        "*   activation='softmax': función de activación estándar para la capa de salida en problemas de clasificación multiclase. Softmax toma las salidas numéricas de las 10 neuronas y las convierte en una distribución de probabilidad (valores entre 0 y 1)."
      ],
      "metadata": {
        "id": "e-5yKn1ra0lT"
      }
    },
    {
      "cell_type": "code",
      "source": [
        "# Compilación de la red\n",
        "model.compile(\n",
        "    optimizer='rmsprop',\n",
        "    loss='categorical_crossentropy',\n",
        "    metrics=['accuracy']\n",
        ")\n",
        "\n",
        "# Mostrar un resumen de la arquitectura\n",
        "model.summary()"
      ],
      "metadata": {
        "colab": {
          "base_uri": "https://localhost:8080/",
          "height": 193
        },
        "id": "udibtKYBa0-s",
        "outputId": "c8354ccd-2197-4f28-db95-0dba426f18ee"
      },
      "execution_count": 6,
      "outputs": [
        {
          "output_type": "display_data",
          "data": {
            "text/plain": [
              "\u001b[1mModel: \"sequential\"\u001b[0m\n"
            ],
            "text/html": [
              "<pre style=\"white-space:pre;overflow-x:auto;line-height:normal;font-family:Menlo,'DejaVu Sans Mono',consolas,'Courier New',monospace\"><span style=\"font-weight: bold\">Model: \"sequential\"</span>\n",
              "</pre>\n"
            ]
          },
          "metadata": {}
        },
        {
          "output_type": "display_data",
          "data": {
            "text/plain": [
              "┏━━━━━━━━━━━━━━━━━━━━━━━━━━━━━━━━━┳━━━━━━━━━━━━━━━━━━━━━━━━┳━━━━━━━━━━━━━━━┓\n",
              "┃\u001b[1m \u001b[0m\u001b[1mLayer (type)                   \u001b[0m\u001b[1m \u001b[0m┃\u001b[1m \u001b[0m\u001b[1mOutput Shape          \u001b[0m\u001b[1m \u001b[0m┃\u001b[1m \u001b[0m\u001b[1m      Param #\u001b[0m\u001b[1m \u001b[0m┃\n",
              "┡━━━━━━━━━━━━━━━━━━━━━━━━━━━━━━━━━╇━━━━━━━━━━━━━━━━━━━━━━━━╇━━━━━━━━━━━━━━━┩\n",
              "│ dense (\u001b[38;5;33mDense\u001b[0m)                   │ (\u001b[38;5;45mNone\u001b[0m, \u001b[38;5;34m512\u001b[0m)            │       \u001b[38;5;34m401,920\u001b[0m │\n",
              "├─────────────────────────────────┼────────────────────────┼───────────────┤\n",
              "│ dense_1 (\u001b[38;5;33mDense\u001b[0m)                 │ (\u001b[38;5;45mNone\u001b[0m, \u001b[38;5;34m10\u001b[0m)             │         \u001b[38;5;34m5,130\u001b[0m │\n",
              "└─────────────────────────────────┴────────────────────────┴───────────────┘\n"
            ],
            "text/html": [
              "<pre style=\"white-space:pre;overflow-x:auto;line-height:normal;font-family:Menlo,'DejaVu Sans Mono',consolas,'Courier New',monospace\">┏━━━━━━━━━━━━━━━━━━━━━━━━━━━━━━━━━┳━━━━━━━━━━━━━━━━━━━━━━━━┳━━━━━━━━━━━━━━━┓\n",
              "┃<span style=\"font-weight: bold\"> Layer (type)                    </span>┃<span style=\"font-weight: bold\"> Output Shape           </span>┃<span style=\"font-weight: bold\">       Param # </span>┃\n",
              "┡━━━━━━━━━━━━━━━━━━━━━━━━━━━━━━━━━╇━━━━━━━━━━━━━━━━━━━━━━━━╇━━━━━━━━━━━━━━━┩\n",
              "│ dense (<span style=\"color: #0087ff; text-decoration-color: #0087ff\">Dense</span>)                   │ (<span style=\"color: #00d7ff; text-decoration-color: #00d7ff\">None</span>, <span style=\"color: #00af00; text-decoration-color: #00af00\">512</span>)            │       <span style=\"color: #00af00; text-decoration-color: #00af00\">401,920</span> │\n",
              "├─────────────────────────────────┼────────────────────────┼───────────────┤\n",
              "│ dense_1 (<span style=\"color: #0087ff; text-decoration-color: #0087ff\">Dense</span>)                 │ (<span style=\"color: #00d7ff; text-decoration-color: #00d7ff\">None</span>, <span style=\"color: #00af00; text-decoration-color: #00af00\">10</span>)             │         <span style=\"color: #00af00; text-decoration-color: #00af00\">5,130</span> │\n",
              "└─────────────────────────────────┴────────────────────────┴───────────────┘\n",
              "</pre>\n"
            ]
          },
          "metadata": {}
        },
        {
          "output_type": "display_data",
          "data": {
            "text/plain": [
              "\u001b[1m Total params: \u001b[0m\u001b[38;5;34m407,050\u001b[0m (1.55 MB)\n"
            ],
            "text/html": [
              "<pre style=\"white-space:pre;overflow-x:auto;line-height:normal;font-family:Menlo,'DejaVu Sans Mono',consolas,'Courier New',monospace\"><span style=\"font-weight: bold\"> Total params: </span><span style=\"color: #00af00; text-decoration-color: #00af00\">407,050</span> (1.55 MB)\n",
              "</pre>\n"
            ]
          },
          "metadata": {}
        },
        {
          "output_type": "display_data",
          "data": {
            "text/plain": [
              "\u001b[1m Trainable params: \u001b[0m\u001b[38;5;34m407,050\u001b[0m (1.55 MB)\n"
            ],
            "text/html": [
              "<pre style=\"white-space:pre;overflow-x:auto;line-height:normal;font-family:Menlo,'DejaVu Sans Mono',consolas,'Courier New',monospace\"><span style=\"font-weight: bold\"> Trainable params: </span><span style=\"color: #00af00; text-decoration-color: #00af00\">407,050</span> (1.55 MB)\n",
              "</pre>\n"
            ]
          },
          "metadata": {}
        },
        {
          "output_type": "display_data",
          "data": {
            "text/plain": [
              "\u001b[1m Non-trainable params: \u001b[0m\u001b[38;5;34m0\u001b[0m (0.00 B)\n"
            ],
            "text/html": [
              "<pre style=\"white-space:pre;overflow-x:auto;line-height:normal;font-family:Menlo,'DejaVu Sans Mono',consolas,'Courier New',monospace\"><span style=\"font-weight: bold\"> Non-trainable params: </span><span style=\"color: #00af00; text-decoration-color: #00af00\">0</span> (0.00 B)\n",
              "</pre>\n"
            ]
          },
          "metadata": {}
        }
      ]
    },
    {
      "cell_type": "markdown",
      "source": [
        "optimizer='rmsprop': algoritmo que la red usará para ajustar los pesos (weights) basándose en la función de pérdida. rmsprop es una opción excelente y por defecto para muchas tareas. Otros comunes son 'adam' y 'sgd'.\n",
        "\n",
        "loss='categorical_crossentropy': función de pérdida que la red tratará de minimizar. Es la elección ideal para problemas de clasificación multiclase (0 al 9) y donde la salida de la red es un vector de probabilidades (softmax).\n",
        "\n",
        "metrics=['accuracy']: métrica para evaluar el rendimiento de la red, pero no afecta al proceso de entrenamiento. La precisión (accuracy) es la métrica más común para la clasificación."
      ],
      "metadata": {
        "id": "63CHqQffelSw"
      }
    },
    {
      "cell_type": "code",
      "source": [
        "# Preparación datos de imagen\n",
        "train_images = train_images.reshape((60000, 28 * 28))\n",
        "train_images = train_images.astype('float32') / 255\n",
        "\n",
        "test_images = test_images.reshape((10000, 28 * 28))\n",
        "test_images = test_images.astype('float32') / 255"
      ],
      "metadata": {
        "id": "-jj4lqK5flsP"
      },
      "execution_count": 7,
      "outputs": []
    },
    {
      "cell_type": "markdown",
      "source": [
        "Transformamos la matriz y la escalamos a valores entre [0,1)"
      ],
      "metadata": {
        "id": "Lqy3S6q5f_MI"
      }
    },
    {
      "cell_type": "code",
      "source": [
        "from keras.utils import to_categorical\n",
        "\n",
        "# Preparación de etiquetas\n",
        "train_labels = to_categorical(train_labels)\n",
        "test_labels = to_categorical(test_labels)"
      ],
      "metadata": {
        "id": "vmv-ZbrSgVIE"
      },
      "execution_count": 8,
      "outputs": []
    },
    {
      "cell_type": "code",
      "source": [
        "model.fit(train_images, train_labels, epochs=5, batch_size=128)"
      ],
      "metadata": {
        "colab": {
          "base_uri": "https://localhost:8080/"
        },
        "id": "WO9olNcOgiCM",
        "outputId": "c30e2274-2ea3-484b-d8c1-1d74219d6fca"
      },
      "execution_count": 9,
      "outputs": [
        {
          "output_type": "stream",
          "name": "stdout",
          "text": [
            "Epoch 1/5\n",
            "\u001b[1m469/469\u001b[0m \u001b[32m━━━━━━━━━━━━━━━━━━━━\u001b[0m\u001b[37m\u001b[0m \u001b[1m7s\u001b[0m 13ms/step - accuracy: 0.8690 - loss: 0.4459\n",
            "Epoch 2/5\n",
            "\u001b[1m469/469\u001b[0m \u001b[32m━━━━━━━━━━━━━━━━━━━━\u001b[0m\u001b[37m\u001b[0m \u001b[1m6s\u001b[0m 12ms/step - accuracy: 0.9652 - loss: 0.1196\n",
            "Epoch 3/5\n",
            "\u001b[1m469/469\u001b[0m \u001b[32m━━━━━━━━━━━━━━━━━━━━\u001b[0m\u001b[37m\u001b[0m \u001b[1m11s\u001b[0m 13ms/step - accuracy: 0.9772 - loss: 0.0739\n",
            "Epoch 4/5\n",
            "\u001b[1m469/469\u001b[0m \u001b[32m━━━━━━━━━━━━━━━━━━━━\u001b[0m\u001b[37m\u001b[0m \u001b[1m9s\u001b[0m 10ms/step - accuracy: 0.9849 - loss: 0.0508\n",
            "Epoch 5/5\n",
            "\u001b[1m469/469\u001b[0m \u001b[32m━━━━━━━━━━━━━━━━━━━━\u001b[0m\u001b[37m\u001b[0m \u001b[1m4s\u001b[0m 10ms/step - accuracy: 0.9889 - loss: 0.0383\n"
          ]
        },
        {
          "output_type": "execute_result",
          "data": {
            "text/plain": [
              "<keras.src.callbacks.history.History at 0x7c7af8b18b60>"
            ]
          },
          "metadata": {},
          "execution_count": 9
        }
      ]
    },
    {
      "cell_type": "markdown",
      "source": [
        "Itera 5 veces en minilotes de 128 muestras. Resultando 469x5=2345 ajustes.\n",
        "Obtenemos un resultado de 0.9887 con los datos de entrenamientos."
      ],
      "metadata": {
        "id": "5jkYkjVIg54K"
      }
    },
    {
      "cell_type": "code",
      "source": [
        "test_loss, test_acc = model.evaluate(test_images, test_labels)\n",
        "print('test_acc:', test_acc)"
      ],
      "metadata": {
        "colab": {
          "base_uri": "https://localhost:8080/"
        },
        "id": "NwNTG5FrgxjL",
        "outputId": "7ed8ac0b-ddf3-4d1d-8a44-ac13d4612053"
      },
      "execution_count": 10,
      "outputs": [
        {
          "output_type": "stream",
          "name": "stdout",
          "text": [
            "\u001b[1m313/313\u001b[0m \u001b[32m━━━━━━━━━━━━━━━━━━━━\u001b[0m\u001b[37m\u001b[0m \u001b[1m2s\u001b[0m 5ms/step - accuracy: 0.9765 - loss: 0.0777\n",
            "test_acc: 0.9793999791145325\n"
          ]
        }
      ]
    },
    {
      "cell_type": "markdown",
      "source": [
        "Observamos que los resultados de prueba  son un poco menores que los de entrenamiento. Esta diferencia es un problema de sobreajuste. Este problema se profundizará en el Capitulo 3."
      ],
      "metadata": {
        "id": "KCXGQnbyhBn5"
      }
    },
    {
      "cell_type": "code",
      "source": [
        "test_digits = test_images[0:10]\n",
        "\n",
        "predictions = model.predict(test_digits)\n",
        "\n",
        "print(predictions[0])\n",
        "print(predictions[0].argmax())\n",
        "\n",
        "print(predictions[0][7])\n",
        "\n",
        "print(test_labels[0])"
      ],
      "metadata": {
        "colab": {
          "base_uri": "https://localhost:8080/"
        },
        "id": "jGYr_U0snOV4",
        "outputId": "b551b799-57c6-4e72-8351-015e8eba223f"
      },
      "execution_count": 11,
      "outputs": [
        {
          "output_type": "stream",
          "name": "stdout",
          "text": [
            "\u001b[1m1/1\u001b[0m \u001b[32m━━━━━━━━━━━━━━━━━━━━\u001b[0m\u001b[37m\u001b[0m \u001b[1m0s\u001b[0m 92ms/step\n",
            "[1.2953366e-08 6.8644568e-10 1.2363456e-06 2.1152299e-04 2.8147315e-12\n",
            " 1.0798596e-07 1.2864891e-13 9.9977970e-01 3.8211162e-08 7.3347551e-06]\n",
            "7\n",
            "0.9997797\n",
            "[0. 0. 0. 0. 0. 0. 0. 1. 0. 0.]\n"
          ]
        }
      ]
    },
    {
      "cell_type": "markdown",
      "source": [
        "**print(predictions[0]):** Vector de 10 probabilidades, una para cada dígito (clase) posible, del índice 0 al índice 9. Evalua la probabilidad de que la imagen de entrada pertenezca a cada una de las 10 clases. Se observa el valor en el índice 7 (contando desde 0): 9.9998862e-01. Esto es igual a 0.99998862. Por lo que, la red está extremadamente segura (casi 100% de confianza) de que la imagen es el dígito 7. El resto de los valores son números muy pequeños, lo que indica muy baja probabilidad para los otros dígitos.\n",
        "\n",
        "**print(predictions[0].argmax()):**\n",
        "índice con la probabilidad más alta en el vector anterior.\n",
        "\n",
        "\n",
        "**print(predictions[0][7]):** valor de probabilidad exacto en el índice 7\n",
        "\n",
        "**print(test_labels[0]):** Los datos de la etiqueta están en formato one-hot encoding. El 1 en el índice 7 indica que la imagen es, de hecho, el dígito 7.\n",
        "\n",
        "Tu red neuronal ha clasificado correctamente la primera imagen de prueba.\n",
        "\n",
        "Predicción de la Red: 7\n",
        "\n",
        "Etiqueta Verdadera: 7\n",
        "\n",
        "Confianza: 99.977%\n",
        "\n",
        "Esta es una excelente métrica para una sola predicción, lo que sugiere que el entrenamiento fue exitoso. El siguiente paso en tu práctica sería verificar la precisión general del modelo en todo el conjunto de prueba, usando el método model.evaluate()."
      ],
      "metadata": {
        "id": "NNdKtGulow-t"
      }
    },
    {
      "cell_type": "code",
      "source": [
        "test_digits = test_images[0:10]\n",
        "\n",
        "predictions = model.predict(test_digits)\n",
        "\n",
        "print(predictions[0])\n",
        "print(predictions[0].argmax())\n",
        "\n",
        "print(predictions[0][7])\n",
        "\n",
        "print(test_labels[0])"
      ],
      "metadata": {
        "colab": {
          "base_uri": "https://localhost:8080/"
        },
        "outputId": "d23b3ea7-bb5c-47d8-bcba-ee1be77e7bf6",
        "id": "6JNZWqrxQFwU"
      },
      "execution_count": 12,
      "outputs": [
        {
          "output_type": "stream",
          "name": "stdout",
          "text": [
            "\u001b[1m1/1\u001b[0m \u001b[32m━━━━━━━━━━━━━━━━━━━━\u001b[0m\u001b[37m\u001b[0m \u001b[1m0s\u001b[0m 44ms/step\n",
            "[1.2953366e-08 6.8644568e-10 1.2363456e-06 2.1152299e-04 2.8147315e-12\n",
            " 1.0798596e-07 1.2864891e-13 9.9977970e-01 3.8211162e-08 7.3347551e-06]\n",
            "7\n",
            "0.9997797\n",
            "[0. 0. 0. 0. 0. 0. 0. 1. 0. 0.]\n"
          ]
        }
      ]
    },
    {
      "cell_type": "code",
      "source": [
        "loss, accuracy = model.evaluate(test_images, test_labels)\n",
        "\n",
        "print(f\"Pérdida en el conjunto de prueba: {loss:.4f}\")\n",
        "print(f\"Precisión en el conjunto de prueba: {accuracy:.4f}\")"
      ],
      "metadata": {
        "colab": {
          "base_uri": "https://localhost:8080/"
        },
        "id": "ZKsZ_Vp9qNoE",
        "outputId": "0c1ec599-dae1-4cca-af58-534f8c291b41"
      },
      "execution_count": 13,
      "outputs": [
        {
          "output_type": "stream",
          "name": "stdout",
          "text": [
            "\u001b[1m313/313\u001b[0m \u001b[32m━━━━━━━━━━━━━━━━━━━━\u001b[0m\u001b[37m\u001b[0m \u001b[1m2s\u001b[0m 6ms/step - accuracy: 0.9765 - loss: 0.0777\n",
            "Pérdida en el conjunto de prueba: 0.0658\n",
            "Precisión en el conjunto de prueba: 0.9794\n"
          ]
        }
      ]
    },
    {
      "cell_type": "markdown",
      "source": [
        "Pérdida (Loss)\t0.0638\tRepresenta el \"castigo\" o la discrepancia entre la predicción del modelo y la etiqueta verdadera. Una pérdida tan baja (cercana a cero) indica que las predicciones probabilísticas del modelo (softmax output) están muy cerca de las etiquetas verdaderas (one-hot encoded)\n",
        "\n",
        "Precisión (Accuracy)\t0.9812\tEs la proporción de imágenes que el modelo clasificó correctamente. De los 10,000 ejemplos en el conjunto de prueba de MNIST, tu modelo solo se equivocó en aproximadamente 188 imágenes (menos del 2%)."
      ],
      "metadata": {
        "id": "NNmQlsfBqlWY"
      }
    }
  ]
}